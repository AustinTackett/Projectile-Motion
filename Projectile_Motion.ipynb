{
 "cells": [
  {
   "cell_type": "code",
   "execution_count": 59,
   "metadata": {},
   "outputs": [],
   "source": [
    "import numpy as np\n",
    "import matplotlib.pyplot as plt\n",
    "from matplotlib.animation import FuncAnimation"
   ]
  },
  {
   "cell_type": "markdown",
   "metadata": {},
   "source": [
    "$$\n",
    "  x = x_{0} + v_{0}cos(\\theta)t\n",
    "$$\n",
    "$$\n",
    "  y = y_{0} + v_{0}sin(\\theta)t - \\frac{g}{2}t^2\n",
    "$$"
   ]
  },
  {
   "cell_type": "code",
   "execution_count": 60,
   "metadata": {},
   "outputs": [],
   "source": [
    "class Projectile:\n",
    "    def __init__(self):\n",
    "        self.v0 = 100.0\n",
    "        self.x0 = 2.0\n",
    "        self.y0 = 2.0\n",
    "        self.g = 9.8\n",
    "        self.position = np.array([self.x0, self.y0])\n",
    "        \n",
    "    def _calculate_x_position(self, time = 0):\n",
    "        cos_theta = self.position[0] / (np.sqrt(np.dot(self.position, self.position)))\n",
    "        return self.x0 + (self.v0 * cos_theta * time)\n",
    "    \n",
    "    def _calculate_y_position(self, time = 0):\n",
    "        sin_theta = self.position[1] / (np.sqrt(np.dot(self.position, self.position)))\n",
    "        return self.y0 + (self.v0 * sin_theta * time) - (self.g/2) * (time ** 2)\n",
    "    \n",
    "    def _update_position(self, time = 1):\n",
    "        self.position[0] = self._calculate_x_position(time)\n",
    "        self.position[1] = self._calculate_y_position(time)"
   ]
  },
  {
   "cell_type": "code",
   "execution_count": 78,
   "metadata": {},
   "outputs": [],
   "source": [
    "projectile = Projectile()\n",
    "point_x = []\n",
    "point_y = []\n",
    "for t in range(0, 100, 2):\n",
    "    projectile._update_position((t/100))\n",
    "    point_x.append(projectile.position[0])\n",
    "    point_y.append(projectile.position[1])"
   ]
  },
  {
   "cell_type": "code",
   "execution_count": 79,
   "metadata": {},
   "outputs": [
    {
     "data": {
      "text/plain": [
       "<matplotlib.collections.PathCollection at 0x27f9f6df748>"
      ]
     },
     "execution_count": 79,
     "metadata": {},
     "output_type": "execute_result"
    },
    {
     "data": {
      "image/png": "[encoded data removed]",
      "text/plain": [
       "<Figure size 640x480 with 1 Axes>"
      ]
     },
     "metadata": {},
     "output_type": "display_data"
    }
   ],
   "source": [
    "fig, ax = plt.subplots()\n",
    "ax.scatter(point_x, point_y)"
   ]
  }
 ],
 "metadata": {
  "kernelspec": {
   "display_name": "ML-Website",
   "language": "python",
   "name": "python3"
  },
  "language_info": {
   "codemirror_mode": {
    "name": "ipython",
    "version": 3
   },
   "file_extension": ".py",
   "mimetype": "text/x-python",
   "name": "python",
   "nbconvert_exporter": "python",
   "pygments_lexer": "ipython3",
   "version": "3.7.16"
  },
  "orig_nbformat": 4
 },
 "nbformat": 4,
 "nbformat_minor": 2
}
