{
 "cells": [
  {
   "cell_type": "code",
   "execution_count": 1,
   "metadata": {},
   "outputs": [],
   "source": [
    "import numpy as np\n",
    "import matplotlib.pyplot as plt\n",
    "from matplotlib.animation import FuncAnimation"
   ]
  },
  {
   "cell_type": "markdown",
   "metadata": {},
   "source": [
    "$$\n",
    "  x = x_{0} + v_{0}cos(\\theta)t\n",
    "$$\n",
    "$$\n",
    "  y = y_{0} + v_{0}sin(\\theta)t - \\frac{g}{2}t^2\n",
    "$$"
   ]
  },
  {
   "cell_type": "code",
   "execution_count": 11,
   "metadata": {},
   "outputs": [],
   "source": [
    "class Projectile:\n",
    "    def __init__(self, x0, y0, v0, theta):\n",
    "        self.x0 = x0\n",
    "        self.y0 = y0\n",
    "        self.v0 = v0\n",
    "        self.g = 9.8\n",
    "        self.theta = theta\n",
    "        self.position = [self.x0, self.y0]\n",
    "     \n",
    "    def _update_position(self, x, y):\n",
    "        self.position[0] = x\n",
    "        self.position[1] = y\n",
    "        \n",
    "    #Decoupling setting the position and calculating in case I decide to change the projectiles behavior\n",
    "    def _calculate_x_position(self, time):\n",
    "        return self.x0 + (self.v0 * np.cos(self.theta) * time)\n",
    "    \n",
    "    def _calculate_y_position(self, time):\n",
    "        return self.y0 + (self.v0 * np.sin(self.theta) * time) - (self.g * 0.5 * (time ** 2))\n",
    "    \n",
    "    #Generator function that generates the balls x and y position\n",
    "    def get_trajectory(self, time=0, time_delta = 0.05):\n",
    "        #Find the position until the ball reaches the ground\n",
    "        while self.position[1] > 0:\n",
    "            x = self._calculate_x_position(time)\n",
    "            y = self._calculate_y_position(time)\n",
    "            self._update_position(x, y)\n",
    "            \n",
    "            yield x, y\n",
    "            time += time_delta"
   ]
  },
  {
   "cell_type": "code",
   "execution_count": 12,
   "metadata": {},
   "outputs": [
    {
     "data": {
      "image/png": "[encoded data removed]",
      "text/plain": [
       "<Figure size 640x480 with 1 Axes>"
      ]
     },
     "metadata": {},
     "output_type": "display_data"
    }
   ],
   "source": [
    "projectile = Projectile(x0=0, y0=2, v0=10, theta=(np.pi/3))\n",
    "\n",
    "for x, y in projectile.get_trajectory():\n",
    "    plt.scatter(x, y)"
   ]
  },
  {
   "cell_type": "code",
   "execution_count": null,
   "metadata": {},
   "outputs": [
    {
     "ename": "IndentationError",
     "evalue": "expected an indented block (101786586.py, line 5)",
     "output_type": "error",
     "traceback": [
      "\u001b[1;36m  File \u001b[1;32m\"C:\\Users\\lion1\\AppData\\Local\\Temp\\ipykernel_33568\\101786586.py\"\u001b[1;36m, line \u001b[1;32m5\u001b[0m\n\u001b[1;33m    animation = FuncAnimation(fig, func=update_frame , frames=np.arange(0, 10, 0.01), interval=1)\u001b[0m\n\u001b[1;37m                                                                                                 ^\u001b[0m\n\u001b[1;31mIndentationError\u001b[0m\u001b[1;31m:\u001b[0m expected an indented block\n"
     ]
    }
   ],
   "source": [
    "class AnimateTrajectory:\n",
    "    def __init__(self, projectile: Projectile):\n",
    "        "
   ]
  },
  {
   "cell_type": "code",
   "execution_count": null,
   "metadata": {},
   "outputs": [],
   "source": []
  }
 ],
 "metadata": {
  "kernelspec": {
   "display_name": "ML-Website",
   "language": "python",
   "name": "python3"
  },
  "language_info": {
   "codemirror_mode": {
    "name": "ipython",
    "version": 3
   },
   "file_extension": ".py",
   "mimetype": "text/x-python",
   "name": "python",
   "nbconvert_exporter": "python",
   "pygments_lexer": "ipython3",
   "version": "3.7.16"
  },
  "orig_nbformat": 4
 },
 "nbformat": 4,
 "nbformat_minor": 2
}
